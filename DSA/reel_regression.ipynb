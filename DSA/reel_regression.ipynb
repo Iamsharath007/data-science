{
 "cells": [
  {
   "cell_type": "code",
   "execution_count": 620,
   "metadata": {},
   "outputs": [],
   "source": [
    "import pandas as pd\n",
    "from sklearn import linear_model\n",
    "import random\n",
    "import warnings\n",
    "import matplotlib.pyplot as plt\n",
    "from sklearn.model_selection import train_test_split"
   ]
  },
  {
   "cell_type": "code",
   "execution_count": 621,
   "metadata": {},
   "outputs": [],
   "source": [
    "class Node:\n",
    "    def __init__(self, funny, drama, music, sadness, time_spent):\n",
    "        self.funny = funny\n",
    "        self.drama = drama\n",
    "        self.music = music\n",
    "        self.sadness = sadness\n",
    "        self.time_spent = time_spent\n",
    "        self.next = None"
   ]
  },
  {
   "cell_type": "code",
   "execution_count": 622,
   "metadata": {},
   "outputs": [],
   "source": [
    "class LinkedList:\n",
    "    def __init__(self, name:str):\n",
    "        self.head = None\n",
    "        self.name = name.lower()\n",
    "        self.score_ = None\n",
    "        self.model = linear_model.LogisticRegression()\n",
    "        self.df = None\n",
    "        self.xtrain = None\n",
    "        self.xtest = None\n",
    "        self.ytrain = None\n",
    "        self.ytest = None\n",
    "        \n",
    "    def append(self, funny, drama, music, sadness, time_spent):\n",
    "        new_node = Node(funny, drama, music, sadness, time_spent)\n",
    "        if not self.head:\n",
    "            self.head = new_node\n",
    "        else:\n",
    "            current = self.head\n",
    "            while current.next:\n",
    "                current = current.next\n",
    "            current.next = new_node\n",
    "    def to_dataframe(self):\n",
    "        data = []\n",
    "        current = self.head\n",
    "        while current:\n",
    "            data.append([current.funny, current.drama, current.music, current.sadness, current.time_spent])\n",
    "            current = current.next\n",
    "        self.df = pd.DataFrame(data, columns=['Funny', 'Drama', 'Music', 'Sadness', 'TimeSpent'])\n",
    "        self.xtrain, self.xtest, self.ytrain, self.ytest = train_test_split(self.df.drop('TimeSpent', axis='columns'),\n",
    "                                                                            self.df.TimeSpent,\n",
    "                                                                            test_size=0.2)\n",
    "    def predictor(self, value):\n",
    "        with warnings.catch_warnings():\n",
    "            warnings.filterwarnings(\"ignore\", category=UserWarning)\n",
    "            warnings.filterwarnings(\"ignore\", category=DeprecationWarning)\n",
    "            self.model.fit(self.xtrain, self.ytrain)\n",
    "            return int(self.model.predict(value))\n",
    "        \n",
    "    def get_score(self):\n",
    "        print(self.ytest)\n",
    "        # prediction = self.predictor(self.xtest)\n",
    "        self.score_ = int(self.model.score(self.xtest, self.ytest))\n",
    "        return self.score_\n",
    "    \n",
    "\n",
    "\n"
   ]
  },
  {
   "cell_type": "code",
   "execution_count": 623,
   "metadata": {},
   "outputs": [],
   "source": [
    "def generate_random_data():\n",
    "    funny = random.randint(0, 1)\n",
    "    drama = random.randint(0, 1)\n",
    "    music = random.randint(0, 1)\n",
    "    sadness = random.randint(0, 1)\n",
    "    time_spent = random.randint(0, 1)\n",
    "    return funny, drama, music, sadness, time_spent"
   ]
  },
  {
   "cell_type": "code",
   "execution_count": 624,
   "metadata": {},
   "outputs": [],
   "source": [
    "sarath = LinkedList('Sarath')\n",
    "for i in range(100):\n",
    "    funny, drama, musinc, sadness, time_spent = generate_random_data()\n",
    "    sarath.append(funny, drama, musinc, sadness, time_spent)\n",
    "sarath.to_dataframe()"
   ]
  },
  {
   "cell_type": "code",
   "execution_count": 625,
   "metadata": {},
   "outputs": [
    {
     "name": "stdout",
     "output_type": "stream",
     "text": [
      "0\n",
      "    Funny  Drama  Music  Sadness  TimeSpent\n",
      "0       1      0      0        1          0\n",
      "1       0      1      0        0          1\n",
      "2       1      1      1        1          0\n",
      "3       0      1      0        0          0\n",
      "4       1      0      1        1          0\n",
      "..    ...    ...    ...      ...        ...\n",
      "95      1      1      0        1          1\n",
      "96      0      1      0        0          1\n",
      "97      1      1      0        1          1\n",
      "98      1      1      0        1          0\n",
      "99      0      0      1        1          0\n",
      "\n",
      "[100 rows x 5 columns]\n"
     ]
    }
   ],
   "source": [
    "\n",
    "print(sarath.predictor([[0, 1, 0, 1]]))\n",
    "print(sarath.df)"
   ]
  },
  {
   "cell_type": "code",
   "execution_count": 626,
   "metadata": {},
   "outputs": [
    {
     "name": "stdout",
     "output_type": "stream",
     "text": [
      "58    1\n",
      "38    0\n",
      "20    0\n",
      "14    0\n",
      "69    1\n",
      "51    0\n",
      "64    1\n",
      "23    1\n",
      "52    1\n",
      "46    1\n",
      "78    0\n",
      "39    1\n",
      "98    0\n",
      "50    1\n",
      "97    1\n",
      "86    0\n",
      "10    0\n",
      "54    0\n",
      "61    0\n",
      "53    1\n",
      "Name: TimeSpent, dtype: int64\n",
      "0\n"
     ]
    }
   ],
   "source": [
    "print(sarath.get_score())\n",
    "df = sarath.df\n",
    "xtrain, xtest, ytrain, ytest = train_test_split(df.drop(\"TimeSpent\", axis=1), df.TimeSpent, test_size=0.2) \n",
    "reg = linear_model.LogisticRegression()"
   ]
  },
  {
   "cell_type": "code",
   "execution_count": 627,
   "metadata": {},
   "outputs": [
    {
     "data": {
      "text/plain": [
       "0.4"
      ]
     },
     "execution_count": 627,
     "metadata": {},
     "output_type": "execute_result"
    }
   ],
   "source": [
    "reg.fit(xtrain, ytrain)\n",
    "reg.predict(xtest)\n",
    "reg.score(xtest, ytest)"
   ]
  },
  {
   "cell_type": "code",
   "execution_count": null,
   "metadata": {},
   "outputs": [],
   "source": []
  }
 ],
 "metadata": {
  "kernelspec": {
   "display_name": "base",
   "language": "python",
   "name": "python3"
  },
  "language_info": {
   "codemirror_mode": {
    "name": "ipython",
    "version": 3
   },
   "file_extension": ".py",
   "mimetype": "text/x-python",
   "name": "python",
   "nbconvert_exporter": "python",
   "pygments_lexer": "ipython3",
   "version": "3.11.7"
  }
 },
 "nbformat": 4,
 "nbformat_minor": 2
}
